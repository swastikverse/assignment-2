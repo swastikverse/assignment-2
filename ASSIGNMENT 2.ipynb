{
 "cells": [
  {
   "cell_type": "code",
   "execution_count": 1,
   "id": "ffe145cc-f26a-4525-83f8-a824e29e3bfc",
   "metadata": {},
   "outputs": [],
   "source": [
    "#QUESTION 1"
   ]
  },
  {
   "cell_type": "code",
   "execution_count": 11,
   "id": "63772544-badb-4186-b087-ec9710b51280",
   "metadata": {},
   "outputs": [
    {
     "name": "stdout",
     "output_type": "stream",
     "text": [
      " (i)how to write comments\n",
      "(ii)types of comments\n"
     ]
    }
   ],
   "source": [
    "#The comment code in python can be done by 2 ways\n",
    "\n",
    "\"\"\"\n",
    "1) by using # or hashtag and\n",
    "2) by using triple quotes \n",
    "\n",
    "\"\"\"\n",
    "print (\" (i)how to write comments\")\n",
    "'''\n",
    "There are two type of comments \n",
    "1) SINGLE LINE COMMENT\n",
    "2) MULTIPLE LINE COMMENTS\n",
    "'''\n",
    "print (\"(ii)types of comments\")\n"
   ]
  },
  {
   "cell_type": "code",
   "execution_count": 10,
   "id": "f5d15f31-8835-4181-8b97-51497a563a1a",
   "metadata": {},
   "outputs": [],
   "source": [
    "#QUESTION 2"
   ]
  },
  {
   "cell_type": "code",
   "execution_count": 12,
   "id": "31751630-4a28-4a05-b10c-84057c9a170f",
   "metadata": {},
   "outputs": [],
   "source": [
    "'''\n",
    "Variables are used to store the data or a variable.\n",
    "The name act as a container in which data or value can be stored.\n",
    "'''\n",
    "#EXAMPLE\n",
    "Name = ['swastik', 'pwskill']"
   ]
  },
  {
   "cell_type": "code",
   "execution_count": 13,
   "id": "f02bc213-2f6c-4d0b-a34f-25f2efaf95ae",
   "metadata": {},
   "outputs": [
    {
     "data": {
      "text/plain": [
       "['swastik', 'pwskill']"
      ]
     },
     "execution_count": 13,
     "metadata": {},
     "output_type": "execute_result"
    }
   ],
   "source": [
    "Name"
   ]
  },
  {
   "cell_type": "code",
   "execution_count": 17,
   "id": "e64333d2-2097-4090-be51-23f1e36581e9",
   "metadata": {},
   "outputs": [],
   "source": [
    "#for assigning variable\n",
    "'''\n",
    "give any name to the variable like:\n",
    "'''\n",
    "#example 1\n",
    "course = (\"data science\")\n",
    "\n",
    "#exmple 2\n",
    "cl = (\"time\")\n",
    "\n",
    "#example 3\n",
    "my_name = (\"Swastik guptsa\")\n",
    "\n",
    "#example 4\n",
    "my_age = (21)"
   ]
  },
  {
   "cell_type": "code",
   "execution_count": 19,
   "id": "063a77d0-1c52-4917-a117-62ebf691a016",
   "metadata": {},
   "outputs": [
    {
     "data": {
      "text/plain": [
       "'data science'"
      ]
     },
     "execution_count": 19,
     "metadata": {},
     "output_type": "execute_result"
    }
   ],
   "source": [
    "course \n"
   ]
  },
  {
   "cell_type": "code",
   "execution_count": 20,
   "id": "2c67bb87-29a2-439a-8944-955d3fad1a16",
   "metadata": {},
   "outputs": [
    {
     "data": {
      "text/plain": [
       "'time'"
      ]
     },
     "execution_count": 20,
     "metadata": {},
     "output_type": "execute_result"
    }
   ],
   "source": [
    "cl"
   ]
  },
  {
   "cell_type": "code",
   "execution_count": 21,
   "id": "567fd55d-2ba4-4281-bf4b-a2e2257d16a8",
   "metadata": {},
   "outputs": [
    {
     "data": {
      "text/plain": [
       "'Swastik guptsa'"
      ]
     },
     "execution_count": 21,
     "metadata": {},
     "output_type": "execute_result"
    }
   ],
   "source": [
    "my_name"
   ]
  },
  {
   "cell_type": "code",
   "execution_count": 22,
   "id": "352541f6-db0d-4a94-a56b-25a18e24354f",
   "metadata": {},
   "outputs": [
    {
     "data": {
      "text/plain": [
       "21"
      ]
     },
     "execution_count": 22,
     "metadata": {},
     "output_type": "execute_result"
    }
   ],
   "source": [
    "my_age"
   ]
  },
  {
   "cell_type": "code",
   "execution_count": 26,
   "id": "1cb37e54-0f3b-4e9c-a37a-c4ab6eb8bc85",
   "metadata": {},
   "outputs": [],
   "source": [
    "#question 3\n",
    "\n"
   ]
  },
  {
   "cell_type": "code",
   "execution_count": 27,
   "id": "4b63e9ac-87fb-4fa8-a998-605e65956bd5",
   "metadata": {},
   "outputs": [],
   "source": [
    "#we can concvert one data type into another ny using constructor function.\n",
    "\n",
    "l = (\"10\")"
   ]
  },
  {
   "cell_type": "code",
   "execution_count": 28,
   "id": "f9841869-c557-4dc7-98f1-65316aa83503",
   "metadata": {},
   "outputs": [],
   "source": [
    "#converet into integer\n",
    "\n",
    "l = int(\"10\")"
   ]
  },
  {
   "cell_type": "code",
   "execution_count": 29,
   "id": "05e79e34-ba9a-4db3-96bc-1c3a4b1107b7",
   "metadata": {},
   "outputs": [
    {
     "data": {
      "text/plain": [
       "10"
      ]
     },
     "execution_count": 29,
     "metadata": {},
     "output_type": "execute_result"
    }
   ],
   "source": [
    "l"
   ]
  },
  {
   "cell_type": "code",
   "execution_count": 30,
   "id": "f2220497-54a0-4308-b628-6f3b169e692b",
   "metadata": {},
   "outputs": [],
   "source": [
    "l = float(10)"
   ]
  },
  {
   "cell_type": "code",
   "execution_count": 31,
   "id": "fba67a6d-cfcc-4d56-89c0-69a807d0ebdb",
   "metadata": {},
   "outputs": [
    {
     "data": {
      "text/plain": [
       "10.0"
      ]
     },
     "execution_count": 31,
     "metadata": {},
     "output_type": "execute_result"
    }
   ],
   "source": [
    "l"
   ]
  },
  {
   "cell_type": "code",
   "execution_count": 32,
   "id": "29af9190-916c-4c83-a93a-d031a5ed7768",
   "metadata": {},
   "outputs": [],
   "source": [
    "l = str(10)"
   ]
  },
  {
   "cell_type": "code",
   "execution_count": 33,
   "id": "852da991-ca66-4085-980a-8a86858c3086",
   "metadata": {},
   "outputs": [
    {
     "data": {
      "text/plain": [
       "'10'"
      ]
     },
     "execution_count": 33,
     "metadata": {},
     "output_type": "execute_result"
    }
   ],
   "source": [
    "l"
   ]
  },
  {
   "cell_type": "code",
   "execution_count": 34,
   "id": "cb73c54b-b896-4e01-b6b6-85172cd39749",
   "metadata": {},
   "outputs": [],
   "source": [
    "l = bool(10)"
   ]
  },
  {
   "cell_type": "code",
   "execution_count": 35,
   "id": "7dc02e77-e8e5-4b51-8776-447c21e4a552",
   "metadata": {},
   "outputs": [
    {
     "data": {
      "text/plain": [
       "True"
      ]
     },
     "execution_count": 35,
     "metadata": {},
     "output_type": "execute_result"
    }
   ],
   "source": [
    "l"
   ]
  },
  {
   "cell_type": "code",
   "execution_count": 36,
   "id": "a49d2e8b-5cdb-4948-96a3-47f23b72430c",
   "metadata": {},
   "outputs": [],
   "source": [
    "#convert list into tuple and sets\n",
    "\n",
    "my_class = [\"datascience\", \"3pm\", \"swastik\"]"
   ]
  },
  {
   "cell_type": "code",
   "execution_count": 37,
   "id": "dc964004-c5d3-4c36-9e89-e8568b01d83d",
   "metadata": {},
   "outputs": [],
   "source": [
    "#in tuple\n",
    "tuple_myclass = tuple(my_class)"
   ]
  },
  {
   "cell_type": "code",
   "execution_count": 38,
   "id": "80c95f58-0c54-4e4a-a24e-d93adbc4e757",
   "metadata": {},
   "outputs": [
    {
     "data": {
      "text/plain": [
       "('datascience', '3pm', 'swastik')"
      ]
     },
     "execution_count": 38,
     "metadata": {},
     "output_type": "execute_result"
    }
   ],
   "source": [
    "tuple_myclass"
   ]
  },
  {
   "cell_type": "code",
   "execution_count": 39,
   "id": "b7149297-21d9-4400-abab-089eefc5c0d6",
   "metadata": {},
   "outputs": [],
   "source": [
    "#into sets\n",
    "set_myclass = set(my_class)"
   ]
  },
  {
   "cell_type": "code",
   "execution_count": 40,
   "id": "6ed69e84-90a3-42b5-bb5d-99d63279851a",
   "metadata": {},
   "outputs": [
    {
     "data": {
      "text/plain": [
       "{'3pm', 'datascience', 'swastik'}"
      ]
     },
     "execution_count": 40,
     "metadata": {},
     "output_type": "execute_result"
    }
   ],
   "source": [
    "set_myclass"
   ]
  },
  {
   "cell_type": "code",
   "execution_count": 42,
   "id": "f3a195b2-e3a9-4496-bc6a-2dbce8d58a62",
   "metadata": {},
   "outputs": [],
   "source": [
    "#dictionary\n",
    "person = [(\"name\", \"swastik\"), (\"age\", 21)]\n",
    "person_dict = dict(person)  \n"
   ]
  },
  {
   "cell_type": "code",
   "execution_count": 43,
   "id": "821cbe1a-b67e-4d70-9421-686a699cc209",
   "metadata": {},
   "outputs": [
    {
     "data": {
      "text/plain": [
       "{'name': 'swastik', 'age': 21}"
      ]
     },
     "execution_count": 43,
     "metadata": {},
     "output_type": "execute_result"
    }
   ],
   "source": [
    "person_dict"
   ]
  },
  {
   "cell_type": "code",
   "execution_count": 44,
   "id": "d1b6cd60-f992-45ac-bbed-d3157da7bd98",
   "metadata": {},
   "outputs": [],
   "source": [
    "#QUESTION 4 "
   ]
  },
  {
   "cell_type": "code",
   "execution_count": 46,
   "id": "8c553b16-d9fe-4c88-b957-e7bb3e50f303",
   "metadata": {},
   "outputs": [
    {
     "name": "stdout",
     "output_type": "stream",
     "text": [
      "execute code\n"
     ]
    }
   ],
   "source": [
    "'''\n",
    "open notepad or code writer such as; vs code, jupyter notebook etc.\n",
    "then write your code and save the code by giving .py extention\n",
    "EXAMPLE :- datascience.py\n",
    "and save it\n",
    "'''\n",
    "print('execute code')\n",
    "#here how we write and execute code "
   ]
  },
  {
   "cell_type": "code",
   "execution_count": 47,
   "id": "d39508b6-002e-49b1-bad2-c5ba5f206944",
   "metadata": {},
   "outputs": [],
   "source": [
    "#QUESTION 5"
   ]
  },
  {
   "cell_type": "code",
   "execution_count": 48,
   "id": "69ac0e47-e708-4229-a163-120bb064aa33",
   "metadata": {},
   "outputs": [
    {
     "name": "stdout",
     "output_type": "stream",
     "text": [
      "[2, 3]\n"
     ]
    }
   ],
   "source": [
    "my_list = [1, 2, 3, 4, 5]\n",
    "sub_list = my_list[1:3]\n",
    "print(sub_list)"
   ]
  },
  {
   "cell_type": "code",
   "execution_count": 49,
   "id": "7cc92705-24eb-4bd2-af3a-bd3665528828",
   "metadata": {},
   "outputs": [],
   "source": [
    "#QUESTIONN 6\n",
    "\n",
    "#IMAGINARY NO.\n",
    "'''\n",
    "a complex number is a number that can be expressed in the\n",
    "form a + bi, where a and b are real numbers,\n",
    "and i is the imaginary number.\n",
    "'''\n",
    "\n",
    "#IN PYTHON\n",
    "complex_number = (3+7j) #by puttin \"j\" as an imaginiary no."
   ]
  },
  {
   "cell_type": "code",
   "execution_count": 52,
   "id": "bee5338e-456c-425d-ad89-58f4615d2674",
   "metadata": {},
   "outputs": [
    {
     "name": "stdout",
     "output_type": "stream",
     "text": [
      "correct way\n"
     ]
    }
   ],
   "source": [
    "#QUESTION 7\n",
    "\n",
    "age = 25\n",
    "print(\"correct way\")"
   ]
  },
  {
   "cell_type": "code",
   "execution_count": 53,
   "id": "289b3e43-565b-4528-97f9-b3e12f925f28",
   "metadata": {},
   "outputs": [],
   "source": [
    "#QUESTION 8\n",
    "\n",
    "price = 9.99\n"
   ]
  },
  {
   "cell_type": "code",
   "execution_count": 54,
   "id": "626bfe2b-18b8-4783-942f-48c32d849c0e",
   "metadata": {},
   "outputs": [
    {
     "data": {
      "text/plain": [
       "float"
      ]
     },
     "execution_count": 54,
     "metadata": {},
     "output_type": "execute_result"
    }
   ],
   "source": [
    "#type of variable price\n",
    "\n",
    "type(price)"
   ]
  },
  {
   "cell_type": "code",
   "execution_count": 56,
   "id": "7964bd6e-d387-45b9-a418-c7b4934948d1",
   "metadata": {},
   "outputs": [],
   "source": [
    "#QUESTION 9\n",
    "\n",
    "name = (\"Swasstik Gupta\")"
   ]
  },
  {
   "cell_type": "code",
   "execution_count": 57,
   "id": "fa5ef757-9c4d-416c-81fa-ccdc5e5b8c62",
   "metadata": {},
   "outputs": [
    {
     "data": {
      "text/plain": [
       "'Swasstik Gupta'"
      ]
     },
     "execution_count": 57,
     "metadata": {},
     "output_type": "execute_result"
    }
   ],
   "source": [
    "name"
   ]
  },
  {
   "cell_type": "code",
   "execution_count": 2,
   "id": "621716d4-8a89-41e6-bc56-23f604b43388",
   "metadata": {},
   "outputs": [],
   "source": [
    "#QUESTION 10"
   ]
  },
  {
   "cell_type": "code",
   "execution_count": 4,
   "id": "2826ae93-3dd9-49f6-a8d6-dfea9741aeb5",
   "metadata": {},
   "outputs": [],
   "source": [
    "string = (\"hello, world \")\n"
   ]
  },
  {
   "cell_type": "code",
   "execution_count": 5,
   "id": "d6558ca5-e952-4678-9bbd-80770210a2b0",
   "metadata": {},
   "outputs": [
    {
     "ename": "TypeError",
     "evalue": "'str' object is not callable",
     "output_type": "error",
     "traceback": [
      "\u001b[0;31m---------------------------------------------------------------------------\u001b[0m",
      "\u001b[0;31mTypeError\u001b[0m                                 Traceback (most recent call last)",
      "Cell \u001b[0;32mIn[5], line 1\u001b[0m\n\u001b[0;32m----> 1\u001b[0m \u001b[43mstring\u001b[49m\u001b[43m(\u001b[49m\u001b[38;5;241;43m1\u001b[39;49m\u001b[43m)\u001b[49m\n",
      "\u001b[0;31mTypeError\u001b[0m: 'str' object is not callable"
     ]
    }
   ],
   "source": [
    "string(1)"
   ]
  },
  {
   "cell_type": "code",
   "execution_count": null,
   "id": "1f10c801-a784-4d24-b167-d68f0423a664",
   "metadata": {},
   "outputs": [],
   "source": []
  }
 ],
 "metadata": {
  "kernelspec": {
   "display_name": "Python 3 (ipykernel)",
   "language": "python",
   "name": "python3"
  },
  "language_info": {
   "codemirror_mode": {
    "name": "ipython",
    "version": 3
   },
   "file_extension": ".py",
   "mimetype": "text/x-python",
   "name": "python",
   "nbconvert_exporter": "python",
   "pygments_lexer": "ipython3",
   "version": "3.10.8"
  }
 },
 "nbformat": 4,
 "nbformat_minor": 5
}
